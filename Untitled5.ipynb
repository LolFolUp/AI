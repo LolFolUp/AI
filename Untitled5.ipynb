{
  "nbformat": 4,
  "nbformat_minor": 0,
  "metadata": {
    "colab": {
      "provenance": [],
      "authorship_tag": "ABX9TyNWIApEfd49S9FxdlOrGw3x",
      "include_colab_link": true
    },
    "kernelspec": {
      "name": "python3",
      "display_name": "Python 3"
    },
    "language_info": {
      "name": "python"
    }
  },
  "cells": [
    {
      "cell_type": "markdown",
      "metadata": {
        "id": "view-in-github",
        "colab_type": "text"
      },
      "source": [
        "<a href=\"https://colab.research.google.com/github/LolFolUp/AI/blob/main/Untitled5.ipynb\" target=\"_parent\"><img src=\"https://colab.research.google.com/assets/colab-badge.svg\" alt=\"Open In Colab\"/></a>"
      ]
    },
    {
      "cell_type": "code",
      "execution_count": null,
      "metadata": {
        "colab": {
          "base_uri": "https://localhost:8080/",
          "height": 73
        },
        "id": "oHr1Ful-XLsy",
        "outputId": "26c40e89-d555-438f-d3bb-971d58a866e2"
      },
      "outputs": [
        {
          "output_type": "display_data",
          "data": {
            "text/plain": [
              "<IPython.core.display.HTML object>"
            ],
            "text/html": [
              "\n",
              "     <input type=\"file\" id=\"files-86dc2748-68f5-4e6d-85eb-c2dc5e4e43c7\" name=\"files[]\" multiple disabled\n",
              "        style=\"border:none\" />\n",
              "     <output id=\"result-86dc2748-68f5-4e6d-85eb-c2dc5e4e43c7\">\n",
              "      Upload widget is only available when the cell has been executed in the\n",
              "      current browser session. Please rerun this cell to enable.\n",
              "      </output>\n",
              "      <script>// Copyright 2017 Google LLC\n",
              "//\n",
              "// Licensed under the Apache License, Version 2.0 (the \"License\");\n",
              "// you may not use this file except in compliance with the License.\n",
              "// You may obtain a copy of the License at\n",
              "//\n",
              "//      http://www.apache.org/licenses/LICENSE-2.0\n",
              "//\n",
              "// Unless required by applicable law or agreed to in writing, software\n",
              "// distributed under the License is distributed on an \"AS IS\" BASIS,\n",
              "// WITHOUT WARRANTIES OR CONDITIONS OF ANY KIND, either express or implied.\n",
              "// See the License for the specific language governing permissions and\n",
              "// limitations under the License.\n",
              "\n",
              "/**\n",
              " * @fileoverview Helpers for google.colab Python module.\n",
              " */\n",
              "(function(scope) {\n",
              "function span(text, styleAttributes = {}) {\n",
              "  const element = document.createElement('span');\n",
              "  element.textContent = text;\n",
              "  for (const key of Object.keys(styleAttributes)) {\n",
              "    element.style[key] = styleAttributes[key];\n",
              "  }\n",
              "  return element;\n",
              "}\n",
              "\n",
              "// Max number of bytes which will be uploaded at a time.\n",
              "const MAX_PAYLOAD_SIZE = 100 * 1024;\n",
              "\n",
              "function _uploadFiles(inputId, outputId) {\n",
              "  const steps = uploadFilesStep(inputId, outputId);\n",
              "  const outputElement = document.getElementById(outputId);\n",
              "  // Cache steps on the outputElement to make it available for the next call\n",
              "  // to uploadFilesContinue from Python.\n",
              "  outputElement.steps = steps;\n",
              "\n",
              "  return _uploadFilesContinue(outputId);\n",
              "}\n",
              "\n",
              "// This is roughly an async generator (not supported in the browser yet),\n",
              "// where there are multiple asynchronous steps and the Python side is going\n",
              "// to poll for completion of each step.\n",
              "// This uses a Promise to block the python side on completion of each step,\n",
              "// then passes the result of the previous step as the input to the next step.\n",
              "function _uploadFilesContinue(outputId) {\n",
              "  const outputElement = document.getElementById(outputId);\n",
              "  const steps = outputElement.steps;\n",
              "\n",
              "  const next = steps.next(outputElement.lastPromiseValue);\n",
              "  return Promise.resolve(next.value.promise).then((value) => {\n",
              "    // Cache the last promise value to make it available to the next\n",
              "    // step of the generator.\n",
              "    outputElement.lastPromiseValue = value;\n",
              "    return next.value.response;\n",
              "  });\n",
              "}\n",
              "\n",
              "/**\n",
              " * Generator function which is called between each async step of the upload\n",
              " * process.\n",
              " * @param {string} inputId Element ID of the input file picker element.\n",
              " * @param {string} outputId Element ID of the output display.\n",
              " * @return {!Iterable<!Object>} Iterable of next steps.\n",
              " */\n",
              "function* uploadFilesStep(inputId, outputId) {\n",
              "  const inputElement = document.getElementById(inputId);\n",
              "  inputElement.disabled = false;\n",
              "\n",
              "  const outputElement = document.getElementById(outputId);\n",
              "  outputElement.innerHTML = '';\n",
              "\n",
              "  const pickedPromise = new Promise((resolve) => {\n",
              "    inputElement.addEventListener('change', (e) => {\n",
              "      resolve(e.target.files);\n",
              "    });\n",
              "  });\n",
              "\n",
              "  const cancel = document.createElement('button');\n",
              "  inputElement.parentElement.appendChild(cancel);\n",
              "  cancel.textContent = 'Cancel upload';\n",
              "  const cancelPromise = new Promise((resolve) => {\n",
              "    cancel.onclick = () => {\n",
              "      resolve(null);\n",
              "    };\n",
              "  });\n",
              "\n",
              "  // Wait for the user to pick the files.\n",
              "  const files = yield {\n",
              "    promise: Promise.race([pickedPromise, cancelPromise]),\n",
              "    response: {\n",
              "      action: 'starting',\n",
              "    }\n",
              "  };\n",
              "\n",
              "  cancel.remove();\n",
              "\n",
              "  // Disable the input element since further picks are not allowed.\n",
              "  inputElement.disabled = true;\n",
              "\n",
              "  if (!files) {\n",
              "    return {\n",
              "      response: {\n",
              "        action: 'complete',\n",
              "      }\n",
              "    };\n",
              "  }\n",
              "\n",
              "  for (const file of files) {\n",
              "    const li = document.createElement('li');\n",
              "    li.append(span(file.name, {fontWeight: 'bold'}));\n",
              "    li.append(span(\n",
              "        `(${file.type || 'n/a'}) - ${file.size} bytes, ` +\n",
              "        `last modified: ${\n",
              "            file.lastModifiedDate ? file.lastModifiedDate.toLocaleDateString() :\n",
              "                                    'n/a'} - `));\n",
              "    const percent = span('0% done');\n",
              "    li.appendChild(percent);\n",
              "\n",
              "    outputElement.appendChild(li);\n",
              "\n",
              "    const fileDataPromise = new Promise((resolve) => {\n",
              "      const reader = new FileReader();\n",
              "      reader.onload = (e) => {\n",
              "        resolve(e.target.result);\n",
              "      };\n",
              "      reader.readAsArrayBuffer(file);\n",
              "    });\n",
              "    // Wait for the data to be ready.\n",
              "    let fileData = yield {\n",
              "      promise: fileDataPromise,\n",
              "      response: {\n",
              "        action: 'continue',\n",
              "      }\n",
              "    };\n",
              "\n",
              "    // Use a chunked sending to avoid message size limits. See b/62115660.\n",
              "    let position = 0;\n",
              "    do {\n",
              "      const length = Math.min(fileData.byteLength - position, MAX_PAYLOAD_SIZE);\n",
              "      const chunk = new Uint8Array(fileData, position, length);\n",
              "      position += length;\n",
              "\n",
              "      const base64 = btoa(String.fromCharCode.apply(null, chunk));\n",
              "      yield {\n",
              "        response: {\n",
              "          action: 'append',\n",
              "          file: file.name,\n",
              "          data: base64,\n",
              "        },\n",
              "      };\n",
              "\n",
              "      let percentDone = fileData.byteLength === 0 ?\n",
              "          100 :\n",
              "          Math.round((position / fileData.byteLength) * 100);\n",
              "      percent.textContent = `${percentDone}% done`;\n",
              "\n",
              "    } while (position < fileData.byteLength);\n",
              "  }\n",
              "\n",
              "  // All done.\n",
              "  yield {\n",
              "    response: {\n",
              "      action: 'complete',\n",
              "    }\n",
              "  };\n",
              "}\n",
              "\n",
              "scope.google = scope.google || {};\n",
              "scope.google.colab = scope.google.colab || {};\n",
              "scope.google.colab._files = {\n",
              "  _uploadFiles,\n",
              "  _uploadFilesContinue,\n",
              "};\n",
              "})(self);\n",
              "</script> "
            ]
          },
          "metadata": {}
        },
        {
          "output_type": "stream",
          "name": "stdout",
          "text": [
            "Saving Admission_Predict (1).csv to Admission_Predict (1) (4).csv\n"
          ]
        }
      ],
      "source": [
        "from google.colab import files\n",
        "uploaded = files.upload()\n",
        "import pandas as pd\n",
        "data = pd.read_csv('Admission_Predict (1).csv') #1:00:38 показывается эта функция\n",
        "\n",
        "\n",
        "\n"
      ]
    },
    {
      "cell_type": "markdown",
      "source": [
        "Чтобы постоянно не загружать файл"
      ],
      "metadata": {
        "id": "6bVYa8NtdnQu"
      }
    },
    {
      "cell_type": "code",
      "source": [
        "# Просмотр первых строк данных\n",
        "print(data.head())\n",
        "\n",
        "# Проверка типов данных и общая информация\n",
        "print(data.shape)\n",
        "\n"
      ],
      "metadata": {
        "colab": {
          "base_uri": "https://localhost:8080/"
        },
        "id": "MYx5KlbBdpXg",
        "outputId": "869865c1-dd04-4df7-c6d4-2fe4655ca054"
      },
      "execution_count": null,
      "outputs": [
        {
          "output_type": "stream",
          "name": "stdout",
          "text": [
            "   Serial No.  GRE Score  TOEFL Score  University Rating  SOP  LOR   CGPA  \\\n",
            "0           1        337          118                  4  4.5   4.5  9.65   \n",
            "1           2        324          107                  4  4.0   4.5  8.87   \n",
            "2           3        316          104                  3  3.0   3.5  8.00   \n",
            "3           4        322          110                  3  3.5   2.5  8.67   \n",
            "4           5        314          103                  2  2.0   3.0  8.21   \n",
            "\n",
            "   Research  Chance of Admit   \n",
            "0         1              0.92  \n",
            "1         1              0.76  \n",
            "2         1              0.72  \n",
            "3         1              0.80  \n",
            "4         0              0.65  \n",
            "(400, 9)\n"
          ]
        }
      ]
    },
    {
      "cell_type": "markdown",
      "source": [
        "У нас задача регрессии так как мы предсказываем какую-то непрерывную величину(поступление)(СЛЕДУЮЩЕЕ ДЛЯ себя сделал, по лекции шел и библиотеки импортировал). Решающие деревья для регрессии могут быть использованы если нужнно для каждого узла(node) минимизировать дисперсию. Сделать так чтобы собирались похожие сущности(говорил на лекции, пример из гита для классификации)"
      ],
      "metadata": {
        "id": "R2RrPbMNd_zU"
      }
    },
    {
      "cell_type": "code",
      "source": [
        "#from sklearn.linear_model import LinearRegression # В примерах был про y=kx+b импортируем это и сами не пишем\n",
        "#from sklearn.neighbors import KNeighborsRegressor # 0:56:07 для регрессии K-близжайшие соседи когда смотрим по объекту в какой класс его определеить"
      ],
      "metadata": {
        "id": "B9TWAQHbeEfd"
      },
      "execution_count": null,
      "outputs": []
    },
    {
      "cell_type": "markdown",
      "source": [
        "![image.png](data:image/png;base64,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)"
      ],
      "metadata": {
        "id": "6jnpD3tPrsmP"
      }
    },
    {
      "cell_type": "markdown",
      "source": [
        "КАТЕГОРИАЛЬНЫХ ПРИЗНАКОВ НЕТ."
      ],
      "metadata": {
        "id": "_0mTxgO_4JYk"
      }
    },
    {
      "cell_type": "code",
      "source": [
        "from sklearn.model_selection import train_test_split # в гите так\n",
        "from sklearn.preprocessing import StandardScaler, MinMaxScaler\n",
        "import numpy as np\n",
        "\n",
        "# Просмотр всех названий столбцов\n",
        "print(\"Названия столбцов:\", data.columns)\n",
        "\n",
        "# Удалим лишние пробелы в названиях столбцов\n",
        "data.columns = data.columns.str.strip() # хз почему но в X была ошибка мб пробелы или что-то еще\n",
        "\n",
        "\n",
        "\n",
        "\n",
        "\n",
        "# 1. Определим признаки (X) и целевую переменную (y)\n",
        "X = data.drop(columns=['Chance of Admit', 'Serial No.'])  # Удаляем Serial No., так как это просто индекс\n",
        "y = data['Chance of Admit']\n",
        "print(\"ПРОШЛО пока что\")\n",
        "# 2. Разделение данных на train и test\n",
        "X_train, X_test, y_train, y_test = train_test_split(X, y, test_size=0.2, random_state=42) # все как в лекции ТОЛЬКО random поставил другой было там 17\n",
        "\n",
        "print(\"Размер тренировочной выборки:\", X_train.shape)\n",
        "print(\"Размер тестовой выборки:\", X_test.shape)\n",
        "\n",
        "# 3. Проверка пропусков\n",
        "print(\"Пропуски в тренировочной выборке:\")\n",
        "print(X_train.isnull().sum())\n",
        "\n",
        "# Если есть пропуски, заполним их медианой для числовых переменных(пропусков нет так как мы это выяснили еще при первой сдаче , но все же)\n",
        "for column in X_train.columns:\n",
        "    if X_train[column].isnull().sum() > 0:\n",
        "        median = X_train[column].median()\n",
        "        X_train[column].fillna(median, inplace=True)\n",
        "        X_test[column].fillna(median, inplace=True)\n",
        "\n",
        "scaler = StandardScaler()\n",
        "X_train_scaled = scaler.fit_transform(X_train)  # Обучаем на train и применяем\n",
        "X_test_scaled = scaler.transform(X_test)        # Применяем на test\n",
        "\n",
        "# Преобразуем обратно в DataFrame для удобства\n",
        "X_train_scaled = pd.DataFrame(X_train_scaled, columns=X_train.columns)\n",
        "X_test_scaled = pd.DataFrame(X_test_scaled, columns=X_test.columns)\n",
        "\n",
        "print(\"СТАНДАРТ ПРОШЕЛ\")\n",
        "\n",
        "# 5. Нормализация численных переменных с помощью MinMaxScaler\n",
        "minmax_scaler = MinMaxScaler()\n",
        "X_train_minmax = minmax_scaler.fit_transform(X_train)  # Обучаем на train и применяем\n",
        "X_test_minmax = minmax_scaler.transform(X_test)        # Применяем на test\n",
        "\n",
        "# Преобразуем обратно в DataFrame для удобства\n",
        "X_train_minmax = pd.DataFrame(X_train_minmax, columns=X_train.columns)\n",
        "X_test_minmax = pd.DataFrame(X_test_minmax, columns=X_test.columns)\n",
        "\n",
        "print(\"MinMaxScaler ПРОШЕЛ.\")\n",
        "\n",
        "cat_columns = X.select_dtypes(include=['object']).columns\n",
        "if len(cat_columns) == 0:\n",
        "    print(\"нет категориальных признаков.\")\n",
        "else:\n",
        "    print(f\"Найдены категориальные признаки: {list(cat_columns)}\")\n"
      ],
      "metadata": {
        "colab": {
          "base_uri": "https://localhost:8080/"
        },
        "id": "yTjbczdUrt_8",
        "outputId": "fa88f866-9b27-48b1-e65d-121ace960ef8"
      },
      "execution_count": null,
      "outputs": [
        {
          "output_type": "stream",
          "name": "stdout",
          "text": [
            "Названия столбцов: Index(['Serial No.', 'GRE Score', 'TOEFL Score', 'University Rating', 'SOP',\n",
            "       'LOR ', 'CGPA', 'Research', 'Chance of Admit '],\n",
            "      dtype='object')\n",
            "ПРОШЛО пока что\n",
            "Размер тренировочной выборки: (320, 7)\n",
            "Размер тестовой выборки: (80, 7)\n",
            "Пропуски в тренировочной выборке:\n",
            "GRE Score            0\n",
            "TOEFL Score          0\n",
            "University Rating    0\n",
            "SOP                  0\n",
            "LOR                  0\n",
            "CGPA                 0\n",
            "Research             0\n",
            "dtype: int64\n",
            "СТАНДАРТ ПРОШЕЛ\n",
            "MinMaxScaler ПРОШЕЛ.\n",
            "нет категориальных признаков.\n"
          ]
        }
      ]
    },
    {
      "cell_type": "markdown",
      "source": [
        "![image.png](data:image/png;base64,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)"
      ],
      "metadata": {
        "id": "-7_600XC6CHj"
      }
    },
    {
      "cell_type": "code",
      "source": [
        "from sklearn.linear_model import LinearRegression# крч у нас регрессия -> ток 2 библиотеку берем(говорил в лекции)\n",
        "\n",
        "# Создаем и обучаем модель LinearRegression\n",
        "linear_model = LinearRegression()\n",
        "linear_model.fit(X_train_scaled, y_train)  # Обучение на тренировочных данных\n",
        "\n",
        "# Предсказание для тестовой выборки\n",
        "y_pred = linear_model.predict(X_test_scaled)\n",
        "\n",
        "print(\"Обучил\")\n"
      ],
      "metadata": {
        "colab": {
          "base_uri": "https://localhost:8080/"
        },
        "id": "WMX_HSjc6CsZ",
        "outputId": "49f0714a-59ab-4275-b052-fcc9730aa522"
      },
      "execution_count": null,
      "outputs": [
        {
          "output_type": "stream",
          "name": "stdout",
          "text": [
            "Обучил\n"
          ]
        }
      ]
    },
    {
      "cell_type": "markdown",
      "source": [
        "![image.png](data:image/png;base64,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)"
      ],
      "metadata": {
        "id": "mgwQMkj08uLT"
      }
    },
    {
      "cell_type": "code",
      "source": [
        "from sklearn.tree import DecisionTreeRegressor\n",
        "\n",
        "# Создаем и обучаем модель DecisionTreeRegressor с max_depth=1\n",
        "tree_model = DecisionTreeRegressor(max_depth=5, random_state=42) # крч лучше задвать max_depth так как будет переобучение я поставил просто 5\n",
        "tree_model.fit(X_train_scaled, y_train)  # Обучение на тренировочных данных\n",
        "\n",
        "# Предсказания на тренировочной и тестовой выборках\n",
        "y_train_pred = tree_model.predict(X_train_scaled)\n",
        "y_test_pred = tree_model.predict(X_test_scaled)\n",
        "\n"
      ],
      "metadata": {
        "id": "sw9QZt2f6EAU"
      },
      "execution_count": null,
      "outputs": []
    },
    {
      "cell_type": "markdown",
      "source": [
        "![image.png](data:image/png;base64,iVBORw0KGgoAAAANSUhEUgAABEUAAAAdCAYAAABMidIxAAAAAXNSR0IArs4c6QAAAARnQU1BAACxjwv8YQUAAAAJcEhZcwAADsMAAA7DAcdvqGQAABvnSURBVHhe7Z3taxXX1sDXff4DQYtXTSlSEKEYEgg2pZ+CIVWoCOb208UGqoWQKyp56EOk+EHE8Fxu0GKD4AtYKc8Ha0EsmB7ik0/lWglEUgQpFCn15YoG/BPuXWvvtc/st5nZc84c87Z+ZWrOnDkze/bes2ettdda+0//RkAQBEEQBEEQBEEQBGGd8V/8ryAIgiAIgiAIgiAIwrpCjCKCIAiCIAiCIAiCIKxLxCgiCIIgCIIgCIIgCMK6RIwigiAIgiAIgiAIgiCsSyTRqiAsM69fv+a/BEFIYcOGDfxXHHmmBCGj7HkRBEEQOkun5BIZ3+tDPEUEQRAEQRAEQRAEQViXiFFEEARBEARBEARBEIR1yfoxiry4DaPbt8P0A/4sCIIgCIIgCIKwoliAadRZRn94xZ8FQeg09RpFHkzDdnyI/S3dEPEKbv8Nf3NhgT9nLFxo8VymHGcATj9+DGM9/PVqImLQefXDKN7XNA6bwvIQeWGp/j8Kt1/w50L072N9fcXwcgbGe3qgp+cKLPKuyvA5rvzCn3NYvITX+WIGlvjzqqNZV7ytwHtRdYxlG/+xpGT+vfSMw8xL/s7wy5UVe58rneR2KCDpeUl89oS1zpKWhf52G6WidLTMJTKGILwpjJ6jt3vQjzrLxY838bfCmkbJVBFZKwEZq+ujJqMIK3gHAW7iQ/zY2u5/NcTHtA4ZAIbPAYx/n2rUIIPIbji+42ZWlq/3w6odWjb3w959AFM/mS6/ADeONWDoq0+gl/cIb5pe6D8B0GjcY0ET+9zVKYATR2D/ZrWjkIULwzB1AvvnUWnBNcFbe2HqwQN4gNu1Ud63GiFFeugkzI1eU/eitynY+xZ/LwjCKmMj7P/6PpyH43Aqddb5wTTKXOMoz42JjCEIbwBSbId/PQ/3m/qTPHtCGr1HH8PNE1MwvJInWVcJNRhFyADBCl7kId708cX2vDPw5bz7WKOCQQR5cAOO38EX+ppRODehUHMTxs8NswVZ17dYkJeX3qNa0Nyt2mQ3/oUvtJQ+9+I2XD43BOf/Un5sdEbYn6Vvzuz7VuYlmPkC919q0c+jqegfhm7etW4JvCdW3wx89+fayDH10UbeE7K0cBfmYADOHihp8V2HtcHk73tR5VptxJ+LpR/HddvyfuPRETw/bczoECntsNZp1q2zteGRJpSAMsRn49A4diNhNlEb+GXSRRDeEEYm/HIVT94Ky0rvX87D0LnLiZ7qQh5tG0Ve/XCqcwYIChs5SC/n+5UMKws/0Yx9/xp7offCWNOCjJt4GKwAyFhltUmiN9Kr+Rlo7NsL/QkeJSGLcOXTaQCayfcU0oFBgJO3RK2oG6UsD50EmJzVhgDe+n5eq0rcTtiy3jxDXs7A5MQcDFAbf24bhAZg4LfrLRtAhAIGz8Js83m6BmMwDSNiGOkcPf0wDlNwrywE+cU9mLkzBHv7RD0ThDdBezKhICAqoqABM/OSg6Yd2jSKvIJ7jU6FcSzA9AfHoVHZI+IVPP0VYOidLi8+Ly9hkZd7hDYr9lbl7ghicc1vOIaLc374MV3q+t5vTZlMWXRuEL1Pb15OCnXuME+F+V0zzwiXwcm5krIv6fwcHuXXA+eQcc4fIbxHL/YtyEWTl5eDy2FtTpvyvTW/j8ZQF7e3wS+z23d0OYL75vuI9zMDPzND/S3MCNAM9whMkzLhKG7MwB4YuzhfqlQ0Z8R5C3Ib+F4RBbkL4jO+uEW8U5xj887pXTvmjeGXv2gm3y1fROEKPEC8Yyxl2Z/Z7/68NQ+aoM4idUX4x0VzUJSVH/HP05aHi/FSMltO2YnSflalnTrKIlzhkKHQe2Mn7BkAuLuQ9wQY8BzWvbbVDkGbmi3inZLwvBDOtaPPnl/+Aq8z75qxfpnUdx264cAkVjRMw7x/Dyl9LqHOdH+kduF7McdE6qO07yrK6kxTOl4xZXVWpfxxdMhnFoYbx1XQIu/L5obv6bv5ebS0/HMO/jf6W9piMfDhOz5+fLEs0Hx/O+7k+jexd7l/D77sWCbjaPwyxe4vlC3ouP8P9mWbLq8+d1o5fCJtaOrFyExRWSmrh6zOyssRk3sLy8D4dZ5Xf4awHu3N/2359QP50duye87qoFhONPj9Ijzuye8NgB3bAPx7ygmHiPUhrzaDa6otaJfIceaagVxubXyMarOcMuZi6Rzlz1lB+YhIGZ26zdFvTFvH2jSPaL/2+0zOc9Qq2bsjRSbaBP1DQ1ZIv9AK7RlF1IwCwHvb6p5ReIoD2DBM7UsMR3B4Ak+wTI1ju+Heh9Ys/vfkOro7Mmjp4yk8h45LyYGivWP4A7F5P1x8fB/O75uC4YKHgh6qYXKR+6dJnrQANxp7rRhCigtrwPEPil8G9CCeOoaDaKcIzt8LY/88D0N3jsMNexBJ8OKhe959DNQ9Z/fIXyJqoDn40Pn+/leAdeANUGrwMWFafCyW6T3+Wg2OHxyH97gdH1N7UGhL0B5ue9tlMegyv5flx8HrQLTv2Oj6KIeu39os3NKPk3Bydgyu5YYs9EHf6DRcL1BASPAenNgJ18wMbeMswMSgK4An5segc41cxPKYc30zpvaHs+2o6nyKx4LJU3ENxmZPwmRQzrswOXQX9jT0+WZRSZr+1FY0tDLglJ/OdXEkohjMwckh+5qzcHZwGkbs40iR8j1AGlvhuqW0mHCSPb3xGq8KveTm3zdlp+udhQEqv6coBXWL26E/Jl2lK6H8hAnXUNfifQ6W0jk4MYc7aMbeUrrs85mwGVWfvC9CUj9TJLRTh1m8VGBoRLb07sGy38oXSpRCPgKPrHa4hs+h7/VQ2g5E0KamnqkveLld8BkaDJ4XX3gagEffhs/eoN2mqv3d8s9OgmqXwMhCfdW6Jj3zc9iu9nFJfTeXAdhqzZYqofDTR3DWXM8873b5q9SZ6tuDcHfAHBvWR1rfJYMI9hsn984hePYPt99S+QcnwCo/1u3b17161caVkd8szxm+ZmhAKS9/EV3voHzz69NCoZkUtMxob3tD3oRx3EPvfP35IuzfQ94nkdlJfF9fpjxwn52A/7HeoyRdmXdvPGeC5RGbd7xShIbhYbMc+lh6RxuFicK21e/PDRe8t0kRYjmT7sUyAjm5HVB2nDpYrDAZ+cQuk4rx95TVPHloA5XX+gyqTPpze2HSdI8c2svnM+3ocGcG7gWGrQW4h23YPill4MlMU39Y50lY9WS2QIZXbePlGKTrUzh6IB9q+dw+n+mHPg+vjsIpOJ0dF9MxEvqquXfA8jjn4/7rGh10/3TkU9x0XwuV/+zZoY1lYut8r364DGAfYz8zPWPN/bpOKccQH1eDp/rMme2OjkbX8J+zwvIhCz+5uoNpg8JntS6SdY7W0O8O9l5NDGHftA01ojuoY/BnoTo1JVqtmXPHldFh/LMW4utePIWH+E+grOMDTg9dw4+pVccPQdef+XMZbDAYP+EP2pz34078oSDLrjaImJcvgQKAF3LRS3FhWKKnwQvKgIPiGfKgGQ9fbLWQc/7N++G0GrT0S54GKxImThe9sHHQCO8Z7/EoCzdKcAq/J4GGBIOpq6YeTZm8xKRYpjF1ffxeJTm9abU5tseXWJeOIcdQ0N5GmPveEtj43oO+Y6ESp+7DOtvHO/Lg/lkZVFy0cF08OHYfQGF6bj6uUKLycP0iqgrfWOd4ay9MoDI1V6T0RVmEeTzXwOSB7Fy7DihlZC52fVIemkpnN/SNRo6bBVS2MiVm40eHUK1BpdmEBP1yC07ODnh10A2HyRiDisEtT4FzjTMboW8AVdHZZ/CM98CLZ6HBgwxCzd8swfzcHMDgHuirKZxk40dTcHgXfyDweofI8OR4+CzB89/wn9E+6z5JqfYUvNLyJ9I0dJAyTOq6q9D6Bq5SKvaz0nbqICR4KAW+KDeKaqOIBwOzeOskzA2ehQnLy6T7c1RWUYEtMlDG0Ea4MTjUPNdG2PtXMjbGrk/PgvW89O7BPf5xczD3rvvsKY+MiyYkaAlmvtXheLaXzMaPJtSzPP2tb5zyDA27+nAPwKPn5qjEvuuDfYY8stxnbRFuKaFwwvotP+/N8letM+qXdj4XPRbBb8/1fab23ZfP4RH+M/a+c5dw2OtHz/4Ixw9/DFj68TqW1OuDfE37Pg2F5S+hXGhmBS2ZXvgk8m5U3iYoQfRXCHtOQ7/rSb5zjAU0MUWKtB1Tz/vik2F4HjPxZstgKh8dyiR2bgeUHV15JGThO5RPPHmo9ygp/lNw2Vy7TB7qAFou8e6R5E5HqUW5hSbjvvOkmwf38LdDUYNAFdLKoCer6p9g5bbxZUe6PinYUfkwjcaOI24fDHSM1L6q753k19I+bfIlegZFld9uX6QNHTbBth34j2UUDXI+4jWPYF9v/N5ptbqBYriro4Vyf3n5eo+6z5IOEQR4+DTvSa2LqjpHRZS8rw0iofdqAX/uKtEfhTJWplEEO5p6OA7G3TJxmAtdqjxDRGxw3dS3FztMQkxtLvggsHI+9iHvcqBZDjaMWNbYJz+M8uyA9wAblDWZ74NChvC/J//i7zyyHC79vKdeis6/6ePTyhvm8oVpOEX3U5IUSuV2KYiTLIqj7P0QhzYze8EeSeMf5ogOHAMdJC7dvE15kjgDJL3oce+2wjKdh088YU4Jk3mDjRF2vvwEunhXMfnXj0IzgZ9Oe8pBDqTAvRsaCAijPPTZSjmycctO/P8jeJ40k8uwUhDl3S2BgukqDzkExoetsJVmfFngX/wZlbdYvotAMdPs3OKWgpQRx+K+eSsqkeSpEHd7f1NsfZsMETYbYcu7+E/Eg8RhhZTfp2o/K22nToH1S4KHowDnQMbGR4GBgGDj4ECf1+d13537o5ppRynRUVwPCkWisc5/9nQ7zMEzGstezsPdWTz721vVdxk5xqlBvC/+U9MNhx/YSnpi3yVoXDPeSMbTwzYM/DIPOOqFXlrc71X5kUp1FtmnPHj4usl9960tOBKB8oDLDYNC1LNN95nr+WQMr3694jWVkSu7T01x+UtRQnM5VZTTUK7qYFh1Ub4TpRB5Xis02x3MHj8BtToheS54k1I6H124gpzysMk1JmmPinASrwu69mUKXJk8VD+6XCmhuv0kb527Zxm2tNI3/tmRzBu3JdLL0Bm4bWKyY7CqYzVi53TkxIp9lUL+A7zj8vMl6tAJtw198tqCDISsf+BGK32WeZO1T7xe4s9ZevnUZG3OuWulis5RlYUr0KPk/YoGEYKvL7ROe0aROjpADk3LZzSUhIwPlssUbeblVtQpYt/96wkOOWlK6sIFfJGWJpXFsinr7rB+eO8ch2G1fO7p0CCi3PrwQbeXMibrNX8dgMq3XomnQzMLpefXllA4hwNz7H4ceMZpx7bcl6GKo0xBtVGBd4f6nvpKNnDqbRgHSJdXTx+iYILCCn/2UWUio5ZzHtzyQmOoDVUYUVl9tAG59kfc1PPofn8sMsNrlAcvNII2StxaFTV7jqqVPXuqPDkSDSBJsIJlE1EeDFUVULqHKXI/R8WDQgV0faTEbraDn4fAhKy4kKKjvDZIueTjgtCTZSl/ObX2s04yei0SopXDW32wByLGRjYO0rPp3GvPoHoWqkLGF/L2yDxM2JOjRm8lbVRw8Q1TGRWNpUhS3yWaiVapD3tjCbL0XNWs1bd5GzqJezPqrLP0vkvGIB2mQ4YRfVzYj5SBjz3ZmgagmLEoYkg2+MbeFYevXBYpg+2i3vUVMZ4eB7U80Dg2HHqDKLIwBufdjxvJRbmw9ye5/ru/I3lRH5IiD6UQXKPIVZ/LlWTg6vlET3gZrxbVhvmePsnlSC1DVY/tVFr1zK2D5L6qjWdx7O+qenH57TSsQlFsbxQVvo79dGbIDvviL1MJnpe8yezqJJXP6FG47VbpCPzJ54huoCafQ5L7dQWdoxr4vpvQ75r8d7LQSdr0FNGJuzqT2IXDUbCL+XGZxehBJGqoiQyQySvVKG8AKDdINJXk+/rhJbfBqAtn5nWSth4556xw3LXqJOX8usywj1wET5UMfOyqV4CyCqdQNrulvie3VDYseVv2EihPcqrKRG0WOY+KoXYGW25DPL4wjCigBfe2XYfTFTgKY4G7MO8dpz0SvNCI5lbi3h7AbvK2AoGKA7l2O+EhbcHXKFAYbMLZ7hT0TLeqA1Je1P0YwwIbZWbDumwNzkPQVAb1phTICNpjgo7Ryhcp3qFyWVT+5aHeftZZqI6vjZLiXVZnOiRj+mfvKPYY0HG/kfutGnqkQqJsI8sgnMSneTbVEyAFDrsKvShitLYSUVrfNWAf5r5rhxtp7wwKEfLqlLfmOFNjnVXru9gn/s7fqTwx1I8i47MVnqZyNKV40VjUKhwnKmrVJrpQVvss8zTo6EoaiZ4uNlnoMsmTwLIZKTS+8sYyi5LJYu//HDmNJ9vc/A3WpibRyuWhFNxrhF7JDpVmjd0kjaoNC+TiWDlOBSFKSGIZOtZnKtVBXfAka3Jf1X0jHrLCoTWK6n3I75P9P1mKvvFwRrnZCdupive8JOVFLMJMWqaWj8KMzPW/BDi13U9kG9ENciafk/t1ss5RFf2+o/dEmRdilOU0Aq4R2g6f6aUcGHkdp2047o8MI0UWcYf8DLxq4MXXYmb9LnCtc5iBUykGCTKIxFbMsVw4w9hWF13GkJkzZIEs81JpnZTzm9CaI19T7B8OfGeK20QZGArc+XR8cyzBFxurzEtSvdgKlpoq+97A8ZhHCgasojL5PLxK9YEDY5W15dt4Ses4/zQFrg9l+7sLrudES2EyeTTzexiFQW/1GUQQz7WfPGCiBoo8N/uqkPKilLOsjtQ1UdkpX30kAVVOVLn+WlVZI+WLlcsib5hI+ZeDWvvZG8Dk/yhN7kphWsHqTq2FycTJ8nvYz1RyaEQiThgaecCQt4Nv7MGyqLAOLzdIdVL7Lucjsr1FvDCZOPXWWct9l7y22DBSVF7yolGGkWYOEA5TiqwalhfK0zYFnpKtKF6K5nK/C3CDvE1byQeXQtG7XoXGuh4qZBDR3q9+Hg+jvLmGkTKZJY6eiCsLw2jt3EXoScn8UIe0chlUGJSSfagNIQwNyIUnR6NKfUoZ2lmRr4yC6ytvmBT5P07snFpu5eerQl9V4eKxvuEdl9+HdB2WTfA6YelRtE7UDuoapRN/sXrheyj0piopn8k5UstEfUG/TtU5WqT7c+OF2EpodMXwfMGh/ZwinAyIFP7Y0kzk/qRjOTkuLNm4wfD5VUhDnkXcY9PHR0ILOoeG2HGuOv4sIRnYHXKUKjFIWAaRaGbmZhImE9vKwoc9wOE54qvK4PVp8O5U2EzK+bls5hiVRKzEGGZykIQZ2PmzcmsNBZPmzE7T2KBDkgKjEpZpWn02yd78rNPY5y6Y/oZ/q8RIJV5Byo00YuluXiujgf2ietgMvaRbHUxJwWAFrsQbgJKU7py4Dnf5s0IpHilGlQSSFJZ2QGXnH14CS1N+Z4WHRbhCru2jhyp7IFCSTd8SH+Qt2XVYKTGxme7FSxXrkcMWbAVUr3RhBwMQeE++gh7J/ZBU/uWgzn6Wi36flBmZ0+iGw6TQFuZ+IChJ6SO4/q2dTUd7kNDsf74nRCrsmZSYNLMlfrkCI04i0az8dl/SK10NwNkDVU0iaX03hMthe4twiF6xYFhznaX2XaxHv721EcP2wMEx7Av/PDoHje39phNK45hue49w4lknkXUNKKWtJISDFK/qSgUv93v1MqpDnUiwasiXBfww1swg8jg6mRUL0VayI0qFwSQcyo/5K1oYT5lwpZumrIOUykOVYQUxtz058SOFNziy8wJMx2RppVCibHKGkuhX8drgXBWxnBgpZeDktp3JA1FwfZbXW/a8xnPafULLrShHNw2C6X3VhC85/Y6Ps3Pc5PehlNB+PM6ebFTeDq4sqpLi8t+toq6RoJj73ub6HlDuN8a40vKRDOA/O9wXazGwFfXrFJ2jHYysX02O0h5XbJQTWqKeRKvkCUHLEf0axmIOn6vhBckGBRW7lmRUwcHILw8OLvRy1B4cOCDiPp38NM3QUGQwoMFQxahR2EXBoESZlM2yUzRA65cyDXBcxjMAp/NyiiQO3k5MHMfNxfYFFJ2fBufgBZI3KNjgC+lrs1xYVoZhyAwTNGNjluA13+vlxvys0tjHsG7UUmbmXB/MQBe/SKluyRvHjQncDU8+pBcUtTfH91Ifan7PSZvIgNaMg4yXefsHT6Df9zCpHDZDtLuWOCtwpYYRWpVgDuacvAY00JrlQjnkxWyWQE7KttlPCpQdD99UBFBhodURsnh6ayubcY+gvUCsuHtygadVM5wZXyr/LJwF+zheSrRqmAJCLv59P5vz6G1ELYvpJt5UiQy/0Tld7GPn38+OS62zKfLksHItXH97NhI+g2383wCTfIzahk7CTmfVidTyWzlMOBdD1mbVjRZkxNG/5ZwZ1r1kSnVaP2uLuvMWmLYpMYxQ8kuY9YxY5KFjllB17tdW5tPaQXmtOM9BtlV2pTVeIPYzysvbOh5d7GFkH6eXpG0l1Cmt70aJeIvo/CR6eeDm+Wiz2qjWOkvtu1hnEzDpfB/WGZ2rD+atY+LjFdYZ5VWxnqXkOquEFvLLZsYzjwHekUiv8hpuFIZd1EJUFtBLY2r5ThtM9SSYtwqhA73rMxlMyzEsO9LSmubctF3tCpKvO8TKhNvld+xks+XyUBmufIMKYt4knEGFFtzUy89av4OcPkCz/Gqyp0SpjJUjN2QgtwxdeqJUyeY5ixDUQc711TK5JUaEIsa/vw9dV835jD7hGeBK+6qB+8YOq9/hcRCUMacPqSWkQx3FbSetj91s5l+0JrT5e1oit92cIuoapSkBKPTkCDyx5H79O6sfJJXPk9O5XXP7YglV+nWxzlEHtqyf4jHSSY+r9cOf/o3w34KwRiGjyGXoylv9p/T7mlFGphnYy9d7/fo1f7F6ICOAXrnDU7BezsA4KX3OEryCUC8bfv8/paj4q0cYVuMzpQ0nnHPGC/8gY9TIRXcJXoGQOkthw4YNyttBJ3UvU1jIqKCTG1ZSLrz3miCsTUhe1ElLUyYqBY91PE50Si5R47uMv7VQj6eIIAjpbNZuqsVryq9s9CoNkXh3TjwpCJ2EXHQ7lrdgueCVbMLlfU0CUCFA6iyRVyp8NG2Z3E0qHKRx7Aaqf+ksfEfesh1KsCoIgiDkosbfyHLiQjXEKCKsA8gltsh6WvZ9/aicLOR2GIvtXQVohWMa5v2cFpdGcC/UuCyvIIRQ2N2am6Vjg+Lc3LwbvsP5JWpdlnetIHWWwJLy/DgOFcI9eyjfF7mmJ+a7eHEbLjv5FARBEIQ3AeXuVOFHbYSDCRoJnxGEZWZ1uvpnITQutJylm5NDEOpGuYsWsFqfqWY4CH8y0JK/9eaXWEtInZVR9ry0jHLZ1nnK8hKaCsLaQsJn2kLCZ2qnY+P7OkSMIoKwzKxeBU4Qloe1axQRhPoRoVkQBGF5EaPIykeMIoIgCIIgCIIgCIIgrEskp4ggCIIgCIIgCIIgCOsQgP8AHHLsnPLPM74AAAAASUVORK5CYII=)"
      ],
      "metadata": {
        "id": "uMvCTjAP-KPe"
      }
    },
    {
      "cell_type": "code",
      "source": [
        "from sklearn.neighbors import KNeighborsRegressor\n",
        "\n",
        "# Попробуем разные значения k\n",
        "for k in [1, 3, 5, 7, 10]:\n",
        "    # Создаем и обучаем модель\n",
        "    knn_model = KNeighborsRegressor(n_neighbors=k) # k смотрит на кол-во близжайших соседей, я рандомно от 1 до 10 взял k чтобы обучить\n",
        "    knn_model.fit(X_train_scaled, y_train)  # Обучение на тренировочных данных\n",
        "\n",
        "    # Предсказания на тренировочной и тестовой выборках\n",
        "    y_train_pred = knn_model.predict(X_train_scaled)\n",
        "    y_test_pred = knn_model.predict(X_test_scaled)\n",
        "\n",
        "    print(f\"ОБУЧИЛ с k={k}.\")\n"
      ],
      "metadata": {
        "colab": {
          "base_uri": "https://localhost:8080/"
        },
        "id": "fdhpAOaw-LCY",
        "outputId": "d20be120-0a86-4aa3-9c99-d98fe2b9c3ce"
      },
      "execution_count": null,
      "outputs": [
        {
          "output_type": "stream",
          "name": "stdout",
          "text": [
            "ОБУЧИЛ с k=1.\n",
            "ОБУЧИЛ с k=3.\n",
            "ОБУЧИЛ с k=5.\n",
            "ОБУЧИЛ с k=7.\n",
            "ОБУЧИЛ с k=10.\n"
          ]
        }
      ]
    },
    {
      "cell_type": "markdown",
      "source": [
        "![image.png](data:image/png;base64,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)"
      ],
      "metadata": {
        "id": "2WZI5hLZ-xqM"
      }
    },
    {
      "cell_type": "code",
      "source": [
        "from sklearn.ensemble import RandomForestRegressor\n",
        "\n",
        "# Создаем и обучаем модель\n",
        "rf_model = RandomForestRegressor() # про лес не было нигде просто взял и как с другими обучил и да по умолчанию там 100 деревьев берутся и модель вообще может переобучиться если ограничения не поставить по типу: n_estimators=100, max_depth=10, random_state=42 чтобы depth не было все\n",
        "rf_model.fit(X_train_scaled, y_train)  # Обучение на тренировочных данных\n",
        "\n",
        "# Предсказания на тренировочной и тестовой выборках\n",
        "y_train_pred = rf_model.predict(X_train_scaled)\n",
        "y_test_pred = rf_model.predict(X_test_scaled)\n",
        "\n",
        "\n"
      ],
      "metadata": {
        "id": "eZOzC4c8-yRx"
      },
      "execution_count": null,
      "outputs": []
    },
    {
      "cell_type": "markdown",
      "source": [
        "![image.png](data:image/png;base64,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)"
      ],
      "metadata": {
        "id": "py2DTYII_meO"
      }
    },
    {
      "cell_type": "code",
      "source": [
        "from sklearn.metrics import mean_absolute_error, mean_squared_error\n",
        "import numpy as np\n",
        "\n",
        "# Вычисляем метрики на train\n",
        "mae_train = mean_absolute_error(y_train, y_train_pred)\n",
        "rmse_train = np.sqrt(mean_squared_error(y_train, y_train_pred)) # В функциях потерь САМАЯ ИСПОЛЬЗУЕМАЯ этот квдратичная\n",
        "mape_train = np.mean(np.abs((y_train - y_train_pred) / y_train)) * 100\n",
        "\n",
        "# Вычисляем метрики на test\n",
        "mae_test = mean_absolute_error(y_test, y_test_pred)\n",
        "rmse_test = np.sqrt(mean_squared_error(y_test, y_test_pred))\n",
        "mape_test = np.mean(np.abs((y_test - y_test_pred) / y_test)) * 100\n",
        "\n",
        "# Вывод метрик\n",
        "print(\"Метрики для тренировочной выборки:\")\n",
        "print(f\"MAE: {mae_train:.3f}\")\n",
        "print(f\"RMSE: {rmse_train:.3f}\")\n",
        "print(f\"MAPE: {mape_train:.3f}%\")\n",
        "\n",
        "print(\"\\nМетрики для тестовой выборки:\")\n",
        "print(f\"MAE: {mae_test:.3f}\")\n",
        "print(f\"RMSE: {rmse_test:.3f}\")\n",
        "print(f\"MAPE: {mape_test:.3f}%\")\n"
      ],
      "metadata": {
        "colab": {
          "base_uri": "https://localhost:8080/"
        },
        "id": "Ff5eys3P_nKE",
        "outputId": "6d8889fc-c2f8-4e42-c202-4186af9e3651"
      },
      "execution_count": null,
      "outputs": [
        {
          "output_type": "stream",
          "name": "stdout",
          "text": [
            "Метрики для тренировочной выборки:\n",
            "MAE: 0.019\n",
            "RMSE: 0.027\n",
            "MAPE: 2.986%\n",
            "\n",
            "Метрики для тестовой выборки:\n",
            "MAE: 0.049\n",
            "RMSE: 0.070\n",
            "MAPE: 8.490%\n"
          ]
        }
      ]
    },
    {
      "cell_type": "markdown",
      "source": [
        "МОДЕЛЬ переобучилась RMSE на train: 0.027 увеличилась в 3 раза на RMSE на test: 0.070(Ошибка на тренировочных данных значительно ниже, чем на тестовых, RMSE -- крч вероятность ошибки). С переобучением можно бороться с помощью кросс-валидации"
      ],
      "metadata": {
        "id": "xts8LdgNIh-W"
      }
    },
    {
      "cell_type": "code",
      "source": [],
      "metadata": {
        "id": "N1O1UrbOOt-V"
      },
      "execution_count": null,
      "outputs": []
    }
  ]
}